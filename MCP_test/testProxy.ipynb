{
 "cells": [
  {
   "cell_type": "code",
   "execution_count": 1,
   "id": "initial_id",
   "metadata": {
    "collapsed": true,
    "ExecuteTime": {
     "end_time": "2025-05-22T13:30:10.941384Z",
     "start_time": "2025-05-22T13:30:09.983842Z"
    }
   },
   "outputs": [],
   "source": [
    "from qwen_agent.agents import Assistant\n",
    "from qwen_agent.utils.output_beautify import typewriter_print"
   ]
  },
  {
   "cell_type": "code",
   "execution_count": null,
   "outputs": [],
   "source": [
    "llm_cfg = {\n",
    "    'model': 'qwen3:4b',\n",
    "    'model_server': 'http://localhost:11434/v1/',  # base_url, also known as api_base\n",
    "    'api_key': ''\n",
    "}\n",
    "\n",
    "tools = [\n",
    "    {\n",
    "        \"mcpServers\": {\n",
    "            \"filesystem\": {\n",
    "                \"command\": \"npx\",\n",
    "                \"args\": [\n",
    "                    \"-y\",\n",
    "                    \"@modelcontextprotocol/server-filesystem\",\n",
    "                    '.',\n",
    "                ]\n",
    "            },\n",
    "            \"sqlite\" : {\n",
    "                \"command\": \"uvx\",\n",
    "                \"args\": [\n",
    "                    \"mcp-server-sqlite\",\n",
    "                    \"--db-path\",\n",
    "                    \"scores.db\"\n",
    "                ]\n",
    "            },\n",
    "            \"send-mail\" : {\n",
    "                \"command\": \"uvx\",\n",
    "                \"args\":[\n",
    "                    \"--refresh\",\n",
    "                    \"--from\",\n",
    "                    \"/Users/runhao/Desktop/LBSEC/未命名/LBS_PROJECT/invariant-gateway/dist/invariant_gateway-0.0.5.2-py3-none-any.whl\",\n",
    "                    \"invariant-gateway\",\n",
    "                    \"mcp\",\n",
    "                    \"--project-name\",\n",
    "                    \"lalala\",\n",
    "                    \"--push-explorer\",\n",
    "                    \"--exec\",\n",
    "                    \"uv\",\n",
    "                    \"--directory\",\n",
    "                    \"/Users/runhao/Desktop/LBSEC/未命名/LBS_PROJECT/MCPServer/sendemail\",\n",
    "                    \"run\",\n",
    "                    \"send_email.py\"\n",
    "                ],\n",
    "              \"env\": {\n",
    "                \"INVARIANT_API_KEY\": \"inv-a49a336325bb52f86d3e35bc072abea6a3328872ab5b27e22e00e8074649592c\"\n",
    "              }\n",
    "            }\n",
    "        }\n",
    "    }\n",
    "]\n",
    "\n",
    "agent = Assistant(\n",
    "    llm=llm_cfg, \n",
    "    function_list=tools\n",
    ")\n"
   ],
   "metadata": {
    "collapsed": false
   },
   "id": "887b75a788b32068"
  }
 ],
 "metadata": {
  "kernelspec": {
   "display_name": "Python 3",
   "language": "python",
   "name": "python3"
  },
  "language_info": {
   "codemirror_mode": {
    "name": "ipython",
    "version": 2
   },
   "file_extension": ".py",
   "mimetype": "text/x-python",
   "name": "python",
   "nbconvert_exporter": "python",
   "pygments_lexer": "ipython2",
   "version": "2.7.6"
  }
 },
 "nbformat": 4,
 "nbformat_minor": 5
}
